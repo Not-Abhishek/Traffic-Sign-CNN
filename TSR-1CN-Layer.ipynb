{
 "cells": [
  {
   "cell_type": "code",
   "execution_count": 1,
   "id": "23dfd1c4",
   "metadata": {},
   "outputs": [],
   "source": [
    "import numpy as np \n",
    "import pandas as pd \n",
    "import matplotlib.pyplot as plt\n",
    "import cv2\n",
    "import tensorflow as tf\n",
    "from PIL import Image\n",
    "import os\n",
    "from sklearn.model_selection import train_test_split\n",
    "from tensorflow.keras.utils import to_categorical\n",
    "from tensorflow.keras.models import Sequential, load_model\n",
    "from tensorflow.keras.layers import Conv2D, MaxPool2D, Dense, Flatten, Dropout"
   ]
  },
  {
   "cell_type": "code",
   "execution_count": 2,
   "id": "39d47d08",
   "metadata": {},
   "outputs": [],
   "source": [
    "data = []\n",
    "labels = []\n",
    "classes = 43\n",
    "cur_path = os.getcwd()"
   ]
  },
  {
   "cell_type": "code",
   "execution_count": 3,
   "id": "f319eab1",
   "metadata": {},
   "outputs": [],
   "source": [
    "for i in range(classes):\n",
    "    path = os.path.join(cur_path,'train',str(i))\n",
    "    images = os.listdir(path)\n",
    "    for a in images:\n",
    "        try:\n",
    "            image = Image.open(path + '\\\\'+ a)\n",
    "            image = image.resize((30,30))\n",
    "            image = np.array(image)\n",
    "            #sim = Image.fromarray(image)\n",
    "            data.append(image)\n",
    "            labels.append(i)\n",
    "        except:\n",
    "            print(\"Error loading image\")"
   ]
  },
  {
   "cell_type": "code",
   "execution_count": 4,
   "id": "78222f01",
   "metadata": {},
   "outputs": [
    {
     "name": "stdout",
     "output_type": "stream",
     "text": [
      "(39209, 30, 30, 3) (39209,)\n"
     ]
    }
   ],
   "source": [
    "data = np.array(data)\n",
    "labels = np.array(labels)\n",
    "print(data.shape, labels.shape)"
   ]
  },
  {
   "cell_type": "code",
   "execution_count": 5,
   "id": "33db08eb",
   "metadata": {},
   "outputs": [
    {
     "name": "stdout",
     "output_type": "stream",
     "text": [
      "(31367, 30, 30, 3) (7842, 30, 30, 3) (31367,) (7842,)\n"
     ]
    }
   ],
   "source": [
    "X_train, X_test, y_train, y_test = train_test_split(data, labels, test_size=0.2, random_state=42)\n",
    "print(X_train.shape, X_test.shape, y_train.shape, y_test.shape)\n"
   ]
  },
  {
   "cell_type": "code",
   "execution_count": 6,
   "id": "533892ca",
   "metadata": {},
   "outputs": [],
   "source": [
    "y_train = to_categorical(y_train, 43)\n",
    "y_test = to_categorical(y_test, 43)"
   ]
  },
  {
   "cell_type": "code",
   "execution_count": 8,
   "id": "746e93f2",
   "metadata": {},
   "outputs": [],
   "source": [
    "model = Sequential()\n",
    "model.add(Conv2D(64, (3, 3), activation='relu', input_shape=(30, 30, 3)))\n",
    "model.add(MaxPool2D((2, 2)))\n",
    "model.add(Flatten())\n",
    "model.add(Dense(64, activation='relu'))\n",
    "model.add(Dense(43, activation='softmax'))\n",
    "\n"
   ]
  },
  {
   "cell_type": "code",
   "execution_count": 10,
   "id": "0a7b7ad0",
   "metadata": {},
   "outputs": [
    {
     "name": "stdout",
     "output_type": "stream",
     "text": [
      "Model: \"sequential_1\"\n",
      "_________________________________________________________________\n",
      "Layer (type)                 Output Shape              Param #   \n",
      "=================================================================\n",
      "conv2d_1 (Conv2D)            (None, 28, 28, 64)        1792      \n",
      "_________________________________________________________________\n",
      "max_pooling2d_1 (MaxPooling2 (None, 14, 14, 64)        0         \n",
      "_________________________________________________________________\n",
      "flatten_1 (Flatten)          (None, 12544)             0         \n",
      "_________________________________________________________________\n",
      "dense_2 (Dense)              (None, 64)                802880    \n",
      "_________________________________________________________________\n",
      "dense_3 (Dense)              (None, 43)                2795      \n",
      "=================================================================\n",
      "Total params: 807,467\n",
      "Trainable params: 807,467\n",
      "Non-trainable params: 0\n",
      "_________________________________________________________________\n"
     ]
    }
   ],
   "source": [
    "model.summary()"
   ]
  },
  {
   "cell_type": "code",
   "execution_count": 11,
   "id": "2399050f",
   "metadata": {},
   "outputs": [
    {
     "name": "stdout",
     "output_type": "stream",
     "text": [
      "Epoch 1/50\n",
      "981/981 [==============================] - 5s 5ms/step - loss: 3.4880 - accuracy: 0.0574 - val_loss: 3.4784 - val_accuracy: 0.0574\n",
      "Epoch 2/50\n",
      "981/981 [==============================] - 5s 5ms/step - loss: 3.4879 - accuracy: 0.0574 - val_loss: 3.4783 - val_accuracy: 0.0574\n",
      "Epoch 3/50\n",
      "981/981 [==============================] - 5s 5ms/step - loss: 3.4879 - accuracy: 0.0574 - val_loss: 3.4785 - val_accuracy: 0.0574\n",
      "Epoch 4/50\n",
      "981/981 [==============================] - 5s 5ms/step - loss: 3.4879 - accuracy: 0.0574 - val_loss: 3.4785 - val_accuracy: 0.0574\n",
      "Epoch 5/50\n",
      "981/981 [==============================] - 4s 4ms/step - loss: 3.4878 - accuracy: 0.0574 - val_loss: 3.4786 - val_accuracy: 0.0574\n",
      "Epoch 6/50\n",
      "981/981 [==============================] - 4s 4ms/step - loss: 3.4879 - accuracy: 0.0574 - val_loss: 3.4785 - val_accuracy: 0.0574\n",
      "Epoch 7/50\n",
      "981/981 [==============================] - 4s 4ms/step - loss: 3.4879 - accuracy: 0.0574 - val_loss: 3.4783 - val_accuracy: 0.0574\n",
      "Epoch 8/50\n",
      "981/981 [==============================] - 5s 5ms/step - loss: 3.4879 - accuracy: 0.0574 - val_loss: 3.4783 - val_accuracy: 0.0574\n",
      "Epoch 9/50\n",
      "981/981 [==============================] - 5s 5ms/step - loss: 3.4879 - accuracy: 0.0574 - val_loss: 3.4785 - val_accuracy: 0.0574\n",
      "Epoch 10/50\n",
      "981/981 [==============================] - 5s 5ms/step - loss: 3.4879 - accuracy: 0.0574 - val_loss: 3.4784 - val_accuracy: 0.0574\n",
      "Epoch 11/50\n",
      "981/981 [==============================] - 5s 5ms/step - loss: 3.4879 - accuracy: 0.0574 - val_loss: 3.4784 - val_accuracy: 0.0574\n",
      "Epoch 12/50\n",
      "981/981 [==============================] - 4s 4ms/step - loss: 3.4879 - accuracy: 0.0574 - val_loss: 3.4782 - val_accuracy: 0.0574\n",
      "Epoch 13/50\n",
      "981/981 [==============================] - 4s 4ms/step - loss: 3.4879 - accuracy: 0.0574 - val_loss: 3.4783 - val_accuracy: 0.0574\n",
      "Epoch 14/50\n",
      "981/981 [==============================] - 5s 5ms/step - loss: 3.4879 - accuracy: 0.0574 - val_loss: 3.4785 - val_accuracy: 0.0574\n",
      "Epoch 15/50\n",
      "981/981 [==============================] - 5s 5ms/step - loss: 3.4878 - accuracy: 0.0574 - val_loss: 3.4784 - val_accuracy: 0.0574\n",
      "Epoch 16/50\n",
      "981/981 [==============================] - 4s 4ms/step - loss: 3.4879 - accuracy: 0.0574 - val_loss: 3.4784 - val_accuracy: 0.0574\n",
      "Epoch 17/50\n",
      "981/981 [==============================] - 4s 5ms/step - loss: 3.4879 - accuracy: 0.0574 - val_loss: 3.4785 - val_accuracy: 0.0574\n",
      "Epoch 18/50\n",
      "981/981 [==============================] - 5s 5ms/step - loss: 3.4879 - accuracy: 0.0574 - val_loss: 3.4784 - val_accuracy: 0.0574\n",
      "Epoch 19/50\n",
      "981/981 [==============================] - 5s 5ms/step - loss: 3.4879 - accuracy: 0.0574 - val_loss: 3.4784 - val_accuracy: 0.0574\n",
      "Epoch 20/50\n",
      "981/981 [==============================] - 5s 5ms/step - loss: 3.4879 - accuracy: 0.0574 - val_loss: 3.4785 - val_accuracy: 0.0574\n",
      "Epoch 21/50\n",
      "981/981 [==============================] - 5s 5ms/step - loss: 3.4879 - accuracy: 0.0574 - val_loss: 3.4785 - val_accuracy: 0.0574\n",
      "Epoch 22/50\n",
      "981/981 [==============================] - 4s 4ms/step - loss: 3.4879 - accuracy: 0.0574 - val_loss: 3.4784 - val_accuracy: 0.0574\n",
      "Epoch 23/50\n",
      "981/981 [==============================] - 5s 5ms/step - loss: 3.4879 - accuracy: 0.0574 - val_loss: 3.4784 - val_accuracy: 0.0574\n",
      "Epoch 24/50\n",
      "981/981 [==============================] - 5s 5ms/step - loss: 3.4879 - accuracy: 0.0574 - val_loss: 3.4785 - val_accuracy: 0.0574\n",
      "Epoch 25/50\n",
      "981/981 [==============================] - 5s 5ms/step - loss: 3.4879 - accuracy: 0.0574 - val_loss: 3.4784 - val_accuracy: 0.0574\n",
      "Epoch 26/50\n",
      "981/981 [==============================] - 5s 5ms/step - loss: 3.4878 - accuracy: 0.0566 - val_loss: 3.4785 - val_accuracy: 0.0574\n",
      "Epoch 27/50\n",
      "981/981 [==============================] - 5s 5ms/step - loss: 3.4879 - accuracy: 0.0574 - val_loss: 3.4786 - val_accuracy: 0.0574\n",
      "Epoch 28/50\n",
      "981/981 [==============================] - 5s 5ms/step - loss: 3.4879 - accuracy: 0.0574 - val_loss: 3.4785 - val_accuracy: 0.0574\n",
      "Epoch 29/50\n",
      "981/981 [==============================] - 5s 5ms/step - loss: 3.4879 - accuracy: 0.0574 - val_loss: 3.4785 - val_accuracy: 0.0574\n",
      "Epoch 30/50\n",
      "981/981 [==============================] - 5s 5ms/step - loss: 3.4879 - accuracy: 0.0574 - val_loss: 3.4786 - val_accuracy: 0.0574\n",
      "Epoch 31/50\n",
      "981/981 [==============================] - 5s 5ms/step - loss: 3.4879 - accuracy: 0.0574 - val_loss: 3.4785 - val_accuracy: 0.0574\n",
      "Epoch 32/50\n",
      "981/981 [==============================] - 5s 5ms/step - loss: 3.4879 - accuracy: 0.0574 - val_loss: 3.4785 - val_accuracy: 0.0574\n",
      "Epoch 33/50\n",
      "981/981 [==============================] - 5s 5ms/step - loss: 3.4879 - accuracy: 0.0574 - val_loss: 3.4784 - val_accuracy: 0.0574\n",
      "Epoch 34/50\n",
      "981/981 [==============================] - 5s 5ms/step - loss: 3.4879 - accuracy: 0.0561 - val_loss: 3.4785 - val_accuracy: 0.0574\n",
      "Epoch 35/50\n",
      "981/981 [==============================] - 5s 5ms/step - loss: 3.4879 - accuracy: 0.0574 - val_loss: 3.4784 - val_accuracy: 0.0574\n",
      "Epoch 36/50\n",
      "981/981 [==============================] - 5s 5ms/step - loss: 3.4879 - accuracy: 0.0574 - val_loss: 3.4784 - val_accuracy: 0.0574\n",
      "Epoch 37/50\n",
      "981/981 [==============================] - 5s 5ms/step - loss: 3.4879 - accuracy: 0.0574 - val_loss: 3.4784 - val_accuracy: 0.0574\n",
      "Epoch 38/50\n",
      "981/981 [==============================] - 5s 5ms/step - loss: 3.4879 - accuracy: 0.0574 - val_loss: 3.4783 - val_accuracy: 0.0574\n",
      "Epoch 39/50\n",
      "981/981 [==============================] - 5s 5ms/step - loss: 3.4879 - accuracy: 0.0574 - val_loss: 3.4783 - val_accuracy: 0.0574\n",
      "Epoch 40/50\n",
      "981/981 [==============================] - 5s 5ms/step - loss: 3.4879 - accuracy: 0.0574 - val_loss: 3.4783 - val_accuracy: 0.0574\n",
      "Epoch 41/50\n",
      "981/981 [==============================] - 5s 5ms/step - loss: 3.4878 - accuracy: 0.0574 - val_loss: 3.4782 - val_accuracy: 0.0574\n",
      "Epoch 42/50\n",
      "981/981 [==============================] - 5s 5ms/step - loss: 3.4879 - accuracy: 0.0574 - val_loss: 3.4782 - val_accuracy: 0.0574\n",
      "Epoch 43/50\n",
      "981/981 [==============================] - 5s 5ms/step - loss: 3.4879 - accuracy: 0.0574 - val_loss: 3.4783 - val_accuracy: 0.0574\n",
      "Epoch 44/50\n",
      "981/981 [==============================] - 5s 5ms/step - loss: 3.4879 - accuracy: 0.0570 - val_loss: 3.4783 - val_accuracy: 0.0574\n",
      "Epoch 45/50\n",
      "981/981 [==============================] - 5s 5ms/step - loss: 3.4879 - accuracy: 0.0574 - val_loss: 3.4782 - val_accuracy: 0.0574\n",
      "Epoch 46/50\n",
      "981/981 [==============================] - 5s 5ms/step - loss: 3.4879 - accuracy: 0.0574 - val_loss: 3.4782 - val_accuracy: 0.0574\n",
      "Epoch 47/50\n",
      "981/981 [==============================] - 5s 5ms/step - loss: 3.4879 - accuracy: 0.0574 - val_loss: 3.4782 - val_accuracy: 0.0574\n",
      "Epoch 48/50\n",
      "981/981 [==============================] - 5s 5ms/step - loss: 3.4879 - accuracy: 0.0574 - val_loss: 3.4783 - val_accuracy: 0.0574\n",
      "Epoch 49/50\n",
      "981/981 [==============================] - 5s 5ms/step - loss: 3.4879 - accuracy: 0.0565 - val_loss: 3.4784 - val_accuracy: 0.0574\n",
      "Epoch 50/50\n",
      "981/981 [==============================] - 5s 5ms/step - loss: 3.4879 - accuracy: 0.0574 - val_loss: 3.4783 - val_accuracy: 0.0574\n"
     ]
    }
   ],
   "source": [
    "model.compile(loss='categorical_crossentropy', optimizer='adam', metrics=['accuracy'])\n",
    "epochs = 50\n",
    "history = model.fit(X_train, y_train, batch_size=32, epochs=epochs, validation_data=(X_test, y_test))\n",
    "model.save(\"my_model.h5\")"
   ]
  },
  {
   "cell_type": "code",
   "execution_count": 12,
   "id": "5b5ae103",
   "metadata": {},
   "outputs": [
    {
     "data": {
      "image/png": "[encoded data removed]",
      "text/plain": [
       "<Figure size 432x288 with 1 Axes>"
      ]
     },
     "metadata": {
      "needs_background": "light"
     },
     "output_type": "display_data"
    },
    {
     "data": {
      "image/png": "[encoded data removed]",
      "text/plain": [
       "<Figure size 432x288 with 1 Axes>"
      ]
     },
     "metadata": {
      "needs_background": "light"
     },
     "output_type": "display_data"
    }
   ],
   "source": [
    "plt.figure(0)\n",
    "plt.plot(history.history['accuracy'], label='training accuracy')\n",
    "plt.plot(history.history['val_accuracy'], label='val accuracy')\n",
    "plt.title('Accuracy')\n",
    "plt.xlabel('epochs')\n",
    "plt.ylabel('accuracy')\n",
    "plt.legend()\n",
    "plt.show()\n",
    "\n",
    "plt.figure(1)\n",
    "plt.plot(history.history['loss'], label='training loss')\n",
    "plt.plot(history.history['val_loss'], label='val loss')\n",
    "plt.title('Loss')\n",
    "plt.xlabel('epochs')\n",
    "plt.ylabel('loss')\n",
    "plt.legend()\n",
    "plt.show()"
   ]
  },
  {
   "cell_type": "code",
   "execution_count": 14,
   "id": "29fcb495",
   "metadata": {},
   "outputs": [
    {
     "name": "stdout",
     "output_type": "stream",
     "text": [
      "[16  1 38 ... 32  7 10]\n"
     ]
    }
   ],
   "source": [
    "from sklearn.metrics import accuracy_score\n",
    "y_test = pd.read_csv('Test.csv')\n",
    "labels = y_test[\"ClassId\"].values\n",
    "imgs = y_test[\"Path\"].values\n",
    "data=[]\n",
    "for img in imgs:\n",
    "    image = Image.open(img)\n",
    "    image = image.resize((30,30))\n",
    "    data.append(np.array(image))\n",
    "X_test=np.array(data)\n",
    "predict_x=model.predict(X_test)\n",
    "classes_x=np.argmax(predict_x,axis=1)\n",
    "print(classes_x)"
   ]
  },
  {
   "cell_type": "code",
   "execution_count": 20,
   "id": "8058a0be",
   "metadata": {},
   "outputs": [
    {
     "name": "stdout",
     "output_type": "stream",
     "text": [
      "0.9475851148060174\n"
     ]
    }
   ],
   "source": [
    "from sklearn.metrics import accuracy_score\n",
    "print(accuracy_score(labels,classes_x))\n",
    "model.save(\"ninetyfive.h5\")"
   ]
  },
  {
   "cell_type": "code",
   "execution_count": null,
   "id": "b5787110",
   "metadata": {},
   "outputs": [],
   "source": []
  }
 ],
 "metadata": {
  "kernelspec": {
   "display_name": "Python 3",
   "language": "python",
   "name": "python3"
  },
  "language_info": {
   "codemirror_mode": {
    "name": "ipython",
    "version": 3
   },
   "file_extension": ".py",
   "mimetype": "text/x-python",
   "name": "python",
   "nbconvert_exporter": "python",
   "pygments_lexer": "ipython3",
   "version": "3.6.8"
  }
 },
 "nbformat": 4,
 "nbformat_minor": 5
}
