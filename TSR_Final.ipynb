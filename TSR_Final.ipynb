{
 "cells": [
  {
   "cell_type": "code",
   "execution_count": 11,
   "id": "23dfd1c4",
   "metadata": {},
   "outputs": [],
   "source": [
    "import numpy as np \n",
    "import pandas as pd \n",
    "import matplotlib.pyplot as plt\n",
    "import cv2\n",
    "import tensorflow as tf\n",
    "from PIL import Image\n",
    "import os\n",
    "from sklearn.model_selection import train_test_split\n",
    "from tensorflow.keras.utils import to_categorical\n",
    "from tensorflow.keras.models import Sequential, load_model\n",
    "from tensorflow.keras.layers import Conv2D, MaxPool2D, Dense, Flatten, Dropout\n",
    "from tensorflow.keras.optimizers import Adam"
   ]
  },
  {
   "cell_type": "code",
   "execution_count": 2,
   "id": "39d47d08",
   "metadata": {},
   "outputs": [],
   "source": [
    "data = []\n",
    "labels = []\n",
    "classes = 43\n",
    "cur_path = os.getcwd()"
   ]
  },
  {
   "cell_type": "code",
   "execution_count": 3,
   "id": "f319eab1",
   "metadata": {},
   "outputs": [],
   "source": [
    "for i in range(classes):\n",
    "    path = os.path.join(cur_path,'train',str(i))\n",
    "    images = os.listdir(path)\n",
    "    for a in images:\n",
    "        try:\n",
    "            image = Image.open(path + '\\\\'+ a)\n",
    "            image = image.resize((30,30))\n",
    "            image = np.array(image)\n",
    "            #sim = Image.fromarray(image)\n",
    "            data.append(image)\n",
    "            labels.append(i)\n",
    "        except:\n",
    "            print(\"Error loading image\")"
   ]
  },
  {
   "cell_type": "code",
   "execution_count": 4,
   "id": "78222f01",
   "metadata": {},
   "outputs": [
    {
     "name": "stdout",
     "output_type": "stream",
     "text": [
      "(39209, 30, 30, 3) (39209,)\n"
     ]
    }
   ],
   "source": [
    "data = np.array(data)\n",
    "labels = np.array(labels)\n",
    "print(data.shape, labels.shape)"
   ]
  },
  {
   "cell_type": "code",
   "execution_count": 5,
   "id": "33db08eb",
   "metadata": {},
   "outputs": [
    {
     "name": "stdout",
     "output_type": "stream",
     "text": [
      "(31367, 30, 30, 3) (7842, 30, 30, 3) (31367,) (7842,)\n"
     ]
    }
   ],
   "source": [
    "X_train, X_test, y_train, y_test = train_test_split(data, labels, test_size=0.2, random_state=42)\n",
    "print(X_train.shape, X_test.shape, y_train.shape, y_test.shape)\n"
   ]
  },
  {
   "cell_type": "code",
   "execution_count": 6,
   "id": "533892ca",
   "metadata": {},
   "outputs": [],
   "source": [
    "y_train = to_categorical(y_train, 43)\n",
    "y_test = to_categorical(y_test, 43)"
   ]
  },
  {
   "cell_type": "code",
   "execution_count": 7,
   "id": "746e93f2",
   "metadata": {},
   "outputs": [],
   "source": [
    "model = Sequential()\n",
    "model.add(Conv2D(filters=16, kernel_size=(5,5), activation='relu', input_shape=X_train.shape[1:]))\n",
    "model.add(Conv2D(filters=32, kernel_size=(5,5), activation='relu'))\n",
    "model.add(MaxPool2D(pool_size=(2, 2)))\n",
    "model.add(Dropout(rate=0.25))\n",
    "model.add(Conv2D(filters=64, kernel_size=(3, 3), activation='relu'))\n",
    "model.add(Conv2D(filters=128, kernel_size=(3, 3), activation='relu'))\n",
    "model.add(MaxPool2D(pool_size=(2, 2)))\n",
    "model.add(Dropout(rate=0.25))\n",
    "model.add(Flatten())\n",
    "model.add(Dense(256, activation='relu'))\n",
    "model.add(Dropout(rate=0.5))\n",
    "model.add(Dense(43, activation='softmax'))"
   ]
  },
  {
   "cell_type": "code",
   "execution_count": 15,
   "id": "2399050f",
   "metadata": {},
   "outputs": [
    {
     "name": "stdout",
     "output_type": "stream",
     "text": [
      "Epoch 1/50\n",
      "981/981 [==============================] - 8s 8ms/step - loss: 0.3450 - accuracy: 0.9009 - val_loss: 0.0823 - val_accuracy: 0.9773\n",
      "Epoch 2/50\n",
      "981/981 [==============================] - 7s 7ms/step - loss: 0.2590 - accuracy: 0.9257 - val_loss: 0.0539 - val_accuracy: 0.9852\n",
      "Epoch 3/50\n",
      "981/981 [==============================] - 7s 8ms/step - loss: 0.2310 - accuracy: 0.9339 - val_loss: 0.0566 - val_accuracy: 0.9843\n",
      "Epoch 4/50\n",
      "981/981 [==============================] - 7s 7ms/step - loss: 0.2042 - accuracy: 0.9430 - val_loss: 0.0486 - val_accuracy: 0.9872\n",
      "Epoch 5/50\n",
      "981/981 [==============================] - 7s 8ms/step - loss: 0.1790 - accuracy: 0.9495 - val_loss: 0.0434 - val_accuracy: 0.9871\n",
      "Epoch 6/50\n",
      "981/981 [==============================] - 7s 8ms/step - loss: 0.1534 - accuracy: 0.9563 - val_loss: 0.0469 - val_accuracy: 0.9879\n",
      "Epoch 7/50\n",
      "981/981 [==============================] - 7s 7ms/step - loss: 0.1490 - accuracy: 0.9585 - val_loss: 0.0503 - val_accuracy: 0.9850\n",
      "Epoch 8/50\n",
      "981/981 [==============================] - 7s 7ms/step - loss: 0.1498 - accuracy: 0.9582 - val_loss: 0.0397 - val_accuracy: 0.9894\n",
      "Epoch 9/50\n",
      "981/981 [==============================] - 7s 7ms/step - loss: 0.1229 - accuracy: 0.9658 - val_loss: 0.0388 - val_accuracy: 0.9902\n",
      "Epoch 10/50\n",
      "981/981 [==============================] - 7s 7ms/step - loss: 0.1315 - accuracy: 0.9638 - val_loss: 0.0344 - val_accuracy: 0.9916\n",
      "Epoch 11/50\n",
      "981/981 [==============================] - 7s 7ms/step - loss: 0.1247 - accuracy: 0.9665 - val_loss: 0.0259 - val_accuracy: 0.9932\n",
      "Epoch 12/50\n",
      "981/981 [==============================] - 7s 7ms/step - loss: 0.1021 - accuracy: 0.9719 - val_loss: 0.0337 - val_accuracy: 0.9899\n",
      "Epoch 13/50\n",
      "981/981 [==============================] - 7s 7ms/step - loss: 0.1111 - accuracy: 0.9693 - val_loss: 0.0234 - val_accuracy: 0.9944\n",
      "Epoch 14/50\n",
      "981/981 [==============================] - 7s 7ms/step - loss: 0.0952 - accuracy: 0.9732 - val_loss: 0.0283 - val_accuracy: 0.9927\n",
      "Epoch 15/50\n",
      "981/981 [==============================] - 7s 7ms/step - loss: 0.1063 - accuracy: 0.9719 - val_loss: 0.0246 - val_accuracy: 0.9946\n",
      "Epoch 16/50\n",
      "981/981 [==============================] - 7s 7ms/step - loss: 0.1027 - accuracy: 0.9731 - val_loss: 0.0469 - val_accuracy: 0.9888\n",
      "Epoch 17/50\n",
      "981/981 [==============================] - 7s 7ms/step - loss: 0.1059 - accuracy: 0.9731 - val_loss: 0.0325 - val_accuracy: 0.9906\n",
      "Epoch 18/50\n",
      "981/981 [==============================] - 7s 7ms/step - loss: 0.0893 - accuracy: 0.9762 - val_loss: 0.0303 - val_accuracy: 0.9920\n",
      "Epoch 19/50\n",
      "981/981 [==============================] - 7s 7ms/step - loss: 0.0880 - accuracy: 0.9768 - val_loss: 0.0255 - val_accuracy: 0.9954\n",
      "Epoch 20/50\n",
      "981/981 [==============================] - 7s 7ms/step - loss: 0.0820 - accuracy: 0.9784 - val_loss: 0.0415 - val_accuracy: 0.9901\n",
      "Epoch 21/50\n",
      "981/981 [==============================] - 7s 7ms/step - loss: 0.0786 - accuracy: 0.9793 - val_loss: 0.0248 - val_accuracy: 0.9946\n",
      "Epoch 22/50\n",
      "981/981 [==============================] - 7s 7ms/step - loss: 0.0829 - accuracy: 0.9796 - val_loss: 0.0313 - val_accuracy: 0.9920\n",
      "Epoch 23/50\n",
      "981/981 [==============================] - 7s 7ms/step - loss: 0.0695 - accuracy: 0.9819 - val_loss: 0.0287 - val_accuracy: 0.9938\n",
      "Epoch 24/50\n",
      "981/981 [==============================] - 7s 7ms/step - loss: 0.0783 - accuracy: 0.9792 - val_loss: 0.0235 - val_accuracy: 0.9955\n",
      "Epoch 25/50\n",
      "981/981 [==============================] - 7s 7ms/step - loss: 0.0679 - accuracy: 0.9821 - val_loss: 0.0254 - val_accuracy: 0.9943\n",
      "Epoch 26/50\n",
      "981/981 [==============================] - 7s 7ms/step - loss: 0.0819 - accuracy: 0.9796 - val_loss: 0.0209 - val_accuracy: 0.9960\n",
      "Epoch 27/50\n",
      "981/981 [==============================] - 7s 7ms/step - loss: 0.0589 - accuracy: 0.9838 - val_loss: 0.0209 - val_accuracy: 0.9955\n",
      "Epoch 28/50\n",
      "981/981 [==============================] - 7s 7ms/step - loss: 0.0647 - accuracy: 0.9830 - val_loss: 0.0271 - val_accuracy: 0.9932\n",
      "Epoch 29/50\n",
      "981/981 [==============================] - 7s 7ms/step - loss: 0.0690 - accuracy: 0.9831 - val_loss: 0.0286 - val_accuracy: 0.9935\n",
      "Epoch 30/50\n",
      "981/981 [==============================] - 7s 7ms/step - loss: 0.0624 - accuracy: 0.9840 - val_loss: 0.0249 - val_accuracy: 0.9940\n",
      "Epoch 31/50\n",
      "981/981 [==============================] - 7s 7ms/step - loss: 0.0613 - accuracy: 0.9850 - val_loss: 0.0345 - val_accuracy: 0.9899\n",
      "Epoch 32/50\n",
      "981/981 [==============================] - 7s 7ms/step - loss: 0.0579 - accuracy: 0.9857 - val_loss: 0.0260 - val_accuracy: 0.9959\n",
      "Epoch 33/50\n",
      "981/981 [==============================] - 7s 7ms/step - loss: 0.0492 - accuracy: 0.9866 - val_loss: 0.0245 - val_accuracy: 0.9959\n",
      "Epoch 34/50\n",
      "981/981 [==============================] - 7s 7ms/step - loss: 0.0446 - accuracy: 0.9879 - val_loss: 0.0248 - val_accuracy: 0.9955\n",
      "Epoch 35/50\n",
      "981/981 [==============================] - 7s 8ms/step - loss: 0.0561 - accuracy: 0.9868 - val_loss: 0.0180 - val_accuracy: 0.9971\n",
      "Epoch 36/50\n",
      "981/981 [==============================] - 7s 7ms/step - loss: 0.0483 - accuracy: 0.9874 - val_loss: 0.0236 - val_accuracy: 0.9959\n",
      "Epoch 37/50\n",
      "981/981 [==============================] - 7s 7ms/step - loss: 0.0563 - accuracy: 0.9864 - val_loss: 0.0231 - val_accuracy: 0.9963\n",
      "Epoch 38/50\n",
      "981/981 [==============================] - 8s 8ms/step - loss: 0.0566 - accuracy: 0.9871 - val_loss: 0.0289 - val_accuracy: 0.9946\n",
      "Epoch 39/50\n",
      "981/981 [==============================] - 8s 8ms/step - loss: 0.0512 - accuracy: 0.9882 - val_loss: 0.0292 - val_accuracy: 0.9943\n",
      "Epoch 40/50\n",
      "981/981 [==============================] - 7s 7ms/step - loss: 0.0451 - accuracy: 0.9891 - val_loss: 0.0284 - val_accuracy: 0.9957\n",
      "Epoch 41/50\n",
      "981/981 [==============================] - 7s 7ms/step - loss: 0.0506 - accuracy: 0.9876 - val_loss: 0.0215 - val_accuracy: 0.9960\n",
      "Epoch 42/50\n",
      "981/981 [==============================] - 7s 7ms/step - loss: 0.0484 - accuracy: 0.9877 - val_loss: 0.0249 - val_accuracy: 0.9946\n",
      "Epoch 43/50\n",
      "981/981 [==============================] - 7s 7ms/step - loss: 0.0449 - accuracy: 0.9893 - val_loss: 0.0187 - val_accuracy: 0.9971\n",
      "Epoch 44/50\n",
      "981/981 [==============================] - 7s 7ms/step - loss: 0.0419 - accuracy: 0.9887 - val_loss: 0.0291 - val_accuracy: 0.9945\n",
      "Epoch 45/50\n",
      "981/981 [==============================] - 7s 7ms/step - loss: 0.0514 - accuracy: 0.9883 - val_loss: 0.0216 - val_accuracy: 0.9972\n",
      "Epoch 46/50\n",
      "981/981 [==============================] - 7s 7ms/step - loss: 0.0478 - accuracy: 0.9896 - val_loss: 0.0288 - val_accuracy: 0.9950\n",
      "Epoch 47/50\n",
      "981/981 [==============================] - 7s 7ms/step - loss: 0.0479 - accuracy: 0.9885 - val_loss: 0.0448 - val_accuracy: 0.9920\n",
      "Epoch 48/50\n",
      "981/981 [==============================] - 7s 7ms/step - loss: 0.0427 - accuracy: 0.9893 - val_loss: 0.0275 - val_accuracy: 0.9954\n",
      "Epoch 49/50\n",
      "981/981 [==============================] - 7s 7ms/step - loss: 0.0372 - accuracy: 0.9908 - val_loss: 0.0188 - val_accuracy: 0.9959\n",
      "Epoch 50/50\n",
      "981/981 [==============================] - 7s 7ms/step - loss: 0.0404 - accuracy: 0.9901 - val_loss: 0.0215 - val_accuracy: 0.9955\n"
     ]
    }
   ],
   "source": [
    "lr = 0.001\n",
    "epochs = 50\n",
    "opt = Adam(lr=lr, decay=lr / (50 * 0.5))\n",
    "model.compile(loss='categorical_crossentropy', optimizer=opt, metrics=['accuracy'])\n",
    "\n",
    "history = model.fit(X_train, y_train, batch_size=32, epochs=epochs, validation_data=(X_test, y_test))\n",
    "model.save(\"my_model.h5\")"
   ]
  },
  {
   "cell_type": "code",
   "execution_count": 16,
   "id": "5b5ae103",
   "metadata": {},
   "outputs": [
    {
     "data": {
      "image/png": "[encoded data removed]",
      "text/plain": [
       "<Figure size 432x288 with 1 Axes>"
      ]
     },
     "metadata": {
      "needs_background": "light"
     },
     "output_type": "display_data"
    },
    {
     "data": {
      "image/png": "[encoded data removed]",
      "text/plain": [
       "<Figure size 432x288 with 1 Axes>"
      ]
     },
     "metadata": {
      "needs_background": "light"
     },
     "output_type": "display_data"
    }
   ],
   "source": [
    "plt.figure(0)\n",
    "plt.plot(history.history['accuracy'], label='training accuracy')\n",
    "plt.plot(history.history['val_accuracy'], label='val accuracy')\n",
    "plt.title('Accuracy')\n",
    "plt.xlabel('epochs')\n",
    "plt.ylabel('accuracy')\n",
    "plt.legend()\n",
    "plt.show()\n",
    "\n",
    "plt.figure(1)\n",
    "plt.plot(history.history['loss'], label='training loss')\n",
    "plt.plot(history.history['val_loss'], label='val loss')\n",
    "plt.title('Loss')\n",
    "plt.xlabel('epochs')\n",
    "plt.ylabel('loss')\n",
    "plt.legend()\n",
    "plt.show()"
   ]
  },
  {
   "cell_type": "code",
   "execution_count": 14,
   "id": "29fcb495",
   "metadata": {},
   "outputs": [
    {
     "name": "stdout",
     "output_type": "stream",
     "text": [
      "[16  1 38 ... 32  7 10]\n"
     ]
    }
   ],
   "source": [
    "from sklearn.metrics import accuracy_score\n",
    "y_test = pd.read_csv('Test.csv')\n",
    "labels = y_test[\"ClassId\"].values\n",
    "imgs = y_test[\"Path\"].values\n",
    "data=[]\n",
    "for img in imgs:\n",
    "    image = Image.open(img)\n",
    "    image = image.resize((30,30))\n",
    "    data.append(np.array(image))\n",
    "X_test=np.array(data)\n",
    "predict_x=model.predict(X_test)\n",
    "classes_x=np.argmax(predict_x,axis=1)\n",
    "print(classes_x)"
   ]
  },
  {
   "cell_type": "code",
   "execution_count": 20,
   "id": "8058a0be",
   "metadata": {},
   "outputs": [
    {
     "name": "stdout",
     "output_type": "stream",
     "text": [
      "0.9475851148060174\n"
     ]
    }
   ],
   "source": [
    "from sklearn.metrics import accuracy_score\n",
    "print(accuracy_score(labels,classes_x))\n",
    "model.save(\"ninetyfive.h5\")"
   ]
  },
  {
   "cell_type": "code",
   "execution_count": null,
   "id": "b5787110",
   "metadata": {},
   "outputs": [],
   "source": []
  }
 ],
 "metadata": {
  "kernelspec": {
   "display_name": "Python 3",
   "language": "python",
   "name": "python3"
  },
  "language_info": {
   "codemirror_mode": {
    "name": "ipython",
    "version": 3
   },
   "file_extension": ".py",
   "mimetype": "text/x-python",
   "name": "python",
   "nbconvert_exporter": "python",
   "pygments_lexer": "ipython3",
   "version": "3.6.8"
  }
 },
 "nbformat": 4,
 "nbformat_minor": 5
}
